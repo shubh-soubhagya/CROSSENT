{
 "cells": [
  {
   "cell_type": "code",
   "execution_count": 1,
   "id": "e6cf3101",
   "metadata": {},
   "outputs": [],
   "source": [
    "import pandas as pd\n",
    "import numpy as np"
   ]
  },
  {
   "cell_type": "code",
   "execution_count": 2,
   "id": "24bcd0b7",
   "metadata": {},
   "outputs": [],
   "source": [
    "data = pd.read_csv(\"customer_support_tickets.csv\")"
   ]
  },
  {
   "cell_type": "code",
   "execution_count": 3,
   "id": "dcf24f46",
   "metadata": {},
   "outputs": [
    {
     "data": {
      "text/plain": [
       "Index(['Ticket ID', 'Customer Name', 'Customer Email', 'Customer Age',\n",
       "       'Customer Gender', 'Product Purchased', 'Date of Purchase',\n",
       "       'Ticket Type', 'Ticket Subject', 'Ticket Description', 'Ticket Status',\n",
       "       'Resolution', 'Ticket Priority', 'Ticket Channel',\n",
       "       'First Response Time', 'Time to Resolution',\n",
       "       'Customer Satisfaction Rating'],\n",
       "      dtype='object')"
      ]
     },
     "execution_count": 3,
     "metadata": {},
     "output_type": "execute_result"
    }
   ],
   "source": [
    "data.columns"
   ]
  },
  {
   "cell_type": "code",
   "execution_count": 5,
   "id": "28dcba26",
   "metadata": {},
   "outputs": [
    {
     "data": {
      "text/plain": [
       "Email           2143\n",
       "Phone           2132\n",
       "Social media    2121\n",
       "Chat            2073\n",
       "Name: Ticket Channel, dtype: int64"
      ]
     },
     "execution_count": 5,
     "metadata": {},
     "output_type": "execute_result"
    }
   ],
   "source": [
    "data['Ticket Channel'].value_counts()"
   ]
  },
  {
   "cell_type": "code",
   "execution_count": 7,
   "id": "bf3d63cf",
   "metadata": {},
   "outputs": [
    {
     "name": "stdout",
     "output_type": "stream",
     "text": [
      "Chat            5\n",
      "Email           5\n",
      "Phone           5\n",
      "Social media    5\n",
      "Name: Ticket Channel, dtype: int64\n",
      "✅ Balanced dataset of 20 rows saved to 'balanced_tickets.csv'\n"
     ]
    }
   ],
   "source": [
    "import pandas as pd\n",
    "\n",
    "# ✅ Load the original CSV\n",
    "df = data\n",
    "\n",
    "# ✅ How many rows per category you want\n",
    "samples_per_category = 5\n",
    "\n",
    "# ✅ Perform balanced sampling\n",
    "balanced_df = (\n",
    "    df.groupby('Ticket Channel')\n",
    "    .apply(lambda x: x.sample(n=min(samples_per_category, len(x)), random_state=42))\n",
    "    .reset_index(drop=True)\n",
    ")\n",
    "\n",
    "# ✅ Check the final count\n",
    "print(balanced_df['Ticket Channel'].value_counts())\n",
    "\n",
    "# ✅ Save to a new CSV\n",
    "balanced_df.to_csv(\"balanced_tickets.csv\", index=False)\n",
    "\n",
    "print(f\"✅ Balanced dataset of {len(balanced_df)} rows saved to 'balanced_tickets.csv'\")\n"
   ]
  },
  {
   "cell_type": "code",
   "execution_count": null,
   "id": "12a2d508",
   "metadata": {},
   "outputs": [],
   "source": []
  }
 ],
 "metadata": {
  "kernelspec": {
   "display_name": "base",
   "language": "python",
   "name": "python3"
  },
  "language_info": {
   "codemirror_mode": {
    "name": "ipython",
    "version": 3
   },
   "file_extension": ".py",
   "mimetype": "text/x-python",
   "name": "python",
   "nbconvert_exporter": "python",
   "pygments_lexer": "ipython3",
   "version": "3.10.9"
  }
 },
 "nbformat": 4,
 "nbformat_minor": 5
}
